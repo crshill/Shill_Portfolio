{
 "cells": [
  {
   "cell_type": "code",
   "execution_count": 3,
   "metadata": {},
   "outputs": [],
   "source": [
    "import pandas as pd"
   ]
  },
  {
   "cell_type": "code",
   "execution_count": 15,
   "metadata": {},
   "outputs": [],
   "source": [
    "banks = pd.read_excel('./Data/Schools_Banks.xlsx')\n",
    "names = pd.read_excel('./Data/Schools_List_OrigNames.xlsx')"
   ]
  },
  {
   "cell_type": "code",
   "execution_count": 16,
   "metadata": {},
   "outputs": [
    {
     "name": "stdout",
     "output_type": "stream",
     "text": [
      "                              System       Name of School      Listed Bank 1  \\\n",
      "0  ALAMANCE BURLINGTON SCHOOL SYSTEM  ABSS MIDDLE COLLEGE  AMERICAN NATIONAL   \n",
      "1  ALAMANCE BURLINGTON SCHOOL SYSTEM     ALEXANDER WILSON  AMERICAN NATIONAL   \n",
      "2  ALAMANCE BURLINGTON SCHOOL SYSTEM   ALTAMAHAW OSSIPPEE  AMERICAN NATIONAL   \n",
      "3  ALAMANCE BURLINGTON SCHOOL SYSTEM              ANDREWS  AMERICAN NATIONAL   \n",
      "4  ALAMANCE BURLINGTON SCHOOL SYSTEM   B. EVERETTE JORDAN  AMERICAN NATIONAL   \n",
      "\n",
      "  Listed Bank 2 Listed Bank 3  \n",
      "0           NaN           NaN  \n",
      "1           NaN           NaN  \n",
      "2           NaN           NaN  \n",
      "3           NaN           NaN  \n",
      "4           NaN           NaN  \n"
     ]
    }
   ],
   "source": [
    "banks['Name of School'] = banks['Name of School'].str.upper()\n",
    "banks['System'] = banks['System'].str.upper()\n",
    "print(banks.head())"
   ]
  },
  {
   "cell_type": "code",
   "execution_count": 17,
   "metadata": {},
   "outputs": [
    {
     "name": "stdout",
     "output_type": "stream",
     "text": [
      "        Name of School                             System\n",
      "0  ABSS MIDDLE COLLEGE  ALAMANCE BURLINGTON SCHOOL SYSTEM\n",
      "1     ALEXANDER WILSON  ALAMANCE BURLINGTON SCHOOL SYSTEM\n",
      "2    ALTAMAHAW OSSIPEE  ALAMANCE BURLINGTON SCHOOL SYSTEM\n",
      "3              ANDREWS  ALAMANCE BURLINGTON SCHOOL SYSTEM\n",
      "4    B. EVERETT JORDAN  ALAMANCE BURLINGTON SCHOOL SYSTEM\n"
     ]
    }
   ],
   "source": [
    "names['Name of School'] = names['Name of School'].str.upper()\n",
    "names['System'] = names['System'].str.upper()\n",
    "print(names.head())"
   ]
  },
  {
   "cell_type": "code",
   "execution_count": 7,
   "metadata": {},
   "outputs": [
    {
     "name": "stdout",
     "output_type": "stream",
     "text": [
      "2426 2430\n"
     ]
    }
   ],
   "source": [
    "print(len(banks), len(names))"
   ]
  },
  {
   "cell_type": "code",
   "execution_count": 25,
   "metadata": {},
   "outputs": [],
   "source": [
    "out = pd.merge(banks, names, how = 'outer', on=['System', 'Name of School'])"
   ]
  },
  {
   "cell_type": "code",
   "execution_count": 26,
   "metadata": {},
   "outputs": [],
   "source": [
    "out.to_csv('./Data/All_list.csv')"
   ]
  },
  {
   "cell_type": "code",
   "execution_count": 43,
   "metadata": {},
   "outputs": [],
   "source": [
    "notin = banks.loc[banks['Name of School'].isin(names['Name of School'])]"
   ]
  },
  {
   "cell_type": "code",
   "execution_count": 28,
   "metadata": {},
   "outputs": [
    {
     "data": {
      "text/plain": [
       "2167"
      ]
     },
     "execution_count": 28,
     "metadata": {},
     "output_type": "execute_result"
    }
   ],
   "source": [
    "len(notin)"
   ]
  },
  {
   "cell_type": "code",
   "execution_count": 44,
   "metadata": {},
   "outputs": [],
   "source": [
    "keep = banks['Name of School'].isin(names['Name of School'])"
   ]
  },
  {
   "cell_type": "code",
   "execution_count": 45,
   "metadata": {},
   "outputs": [
    {
     "name": "stdout",
     "output_type": "stream",
     "text": [
      "0        True\n",
      "1        True\n",
      "2       False\n",
      "3        True\n",
      "4       False\n",
      "5        True\n",
      "6       False\n",
      "7        True\n",
      "8        True\n",
      "9        True\n",
      "10       True\n",
      "11       True\n",
      "12       True\n",
      "13       True\n",
      "14       True\n",
      "15       True\n",
      "16       True\n",
      "17       True\n",
      "18       True\n",
      "19       True\n",
      "20       True\n",
      "21       True\n",
      "22       True\n",
      "23       True\n",
      "24       True\n",
      "25      False\n",
      "26       True\n",
      "27       True\n",
      "28       True\n",
      "29       True\n",
      "        ...  \n",
      "2465     True\n",
      "2466     True\n",
      "2467     True\n",
      "2468     True\n",
      "2469     True\n",
      "2470     True\n",
      "2471     True\n",
      "2472     True\n",
      "2473     True\n",
      "2474     True\n",
      "2475     True\n",
      "2476     True\n",
      "2477     True\n",
      "2478     True\n",
      "2479     True\n",
      "2480     True\n",
      "2481     True\n",
      "2482     True\n",
      "2483     True\n",
      "2484     True\n",
      "2485     True\n",
      "2486     True\n",
      "2487     True\n",
      "2488     True\n",
      "2489     True\n",
      "2490     True\n",
      "2491     True\n",
      "2492     True\n",
      "2493    False\n",
      "2494     True\n",
      "Name: Name of School, Length: 2495, dtype: bool\n"
     ]
    }
   ],
   "source": [
    "print(keep)"
   ]
  },
  {
   "cell_type": "code",
   "execution_count": 36,
   "metadata": {},
   "outputs": [],
   "source": [
    "def switch(x) :\n",
    "    if x :\n",
    "        return False\n",
    "    else:\n",
    "        return True"
   ]
  },
  {
   "cell_type": "code",
   "execution_count": 40,
   "metadata": {},
   "outputs": [],
   "source": [
    "keep2 = list(map(lambda x : switch(x), keep))"
   ]
  },
  {
   "cell_type": "code",
   "execution_count": null,
   "metadata": {},
   "outputs": [],
   "source": []
  },
  {
   "cell_type": "code",
   "execution_count": 47,
   "metadata": {},
   "outputs": [],
   "source": [
    "notin = banks.loc[keep2]"
   ]
  },
  {
   "cell_type": "code",
   "execution_count": 48,
   "metadata": {},
   "outputs": [
    {
     "data": {
      "text/plain": [
       "328"
      ]
     },
     "execution_count": 48,
     "metadata": {},
     "output_type": "execute_result"
    }
   ],
   "source": [
    "len(notin)"
   ]
  },
  {
   "cell_type": "code",
   "execution_count": 49,
   "metadata": {},
   "outputs": [],
   "source": [
    "notin.to_csv('./Data/Not_in.csv')"
   ]
  },
  {
   "cell_type": "code",
   "execution_count": 26,
   "metadata": {},
   "outputs": [
    {
     "name": "stdout",
     "output_type": "stream",
     "text": [
      "112 114\n",
      "BUNCOMBE COUNTY SCHOOLS 43 42\n",
      "CHARLOTTE MECKLENBURG CO. SCHOOLS 174 145\n",
      "CUMBERLAND COUNTY SCHOOLS 78 85\n",
      "GUILFORD COUNTY SCHOOLS 123 124\n",
      "ROWAN COUNTY SALISBURY CITY SCHOOLS 36 37\n",
      "WASHINGTON COUNTY SCHOOLS 6 7\n",
      "WAYNE COUNTY PUBLIC SCHOOLS 60 32\n"
     ]
    }
   ],
   "source": [
    "print(len(banks['System'].drop_duplicates()), len(names['System'].drop_duplicates()))\n",
    "for dist in banks['System'].drop_duplicates() :\n",
    "    if len(banks.loc[banks['System']==dist]) != len(names.loc[names['System']==dist]) :\n",
    "        #print(banks.loc[banks['System']==dist, 'Name of School'], len(banks.loc[banks['System']==dist]))\n",
    "        #print(names.loc[names['System']==dist, 'School-Distinct'], len(names.loc[names['System']==dist]))\n",
    "        print(dist, len(banks.loc[banks['System']==dist]), len(names.loc[names['System']==dist]))"
   ]
  },
  {
   "cell_type": "code",
   "execution_count": 9,
   "metadata": {},
   "outputs": [],
   "source": [
    "A = 'BUNCOMBE COUNTY SCHOOLS'\n",
    "b = 'CHARLOTTE MECKLENBURG CO. SCHOOLS'\n",
    "c = 'CUMBERLAND COUNTY SCHOOLS'\n",
    "d = 'GUILFORD COUNTY SCHOOLS'\n",
    "e = 'ROWAN COUNTY SALISBURY CITY SCHOOLS'\n",
    "f = 'WASHINGTON COUNTY SCHOOLS'\n",
    "g = 'WAYNE COUNTY PUBLIC SCHOOLS'\n",
    "banks.loc[banks['System'].isin([A,b,c,d,e,f,g]), {'Name of School','System'}].to_csv('./Data/Schools1.csv')\n",
    "names.loc[names['System'].isin([A,b,c,d,e,f,g]), {'Name of School','System'}].to_csv('./Data/Schools2.csv')"
   ]
  },
  {
   "cell_type": "code",
   "execution_count": 19,
   "metadata": {},
   "outputs": [],
   "source": [
    "my_list_not = banks.loc[~banks['Name of School'].isin(names['Name of School']), {'Name of School','System'}]\n",
    "their_list_not = names.loc[~names['Name of School'].isin(banks['Name of School']), {'Name of School','System'}]"
   ]
  },
  {
   "cell_type": "code",
   "execution_count": 25,
   "metadata": {},
   "outputs": [],
   "source": [
    "#my_list_not.to_csv('./Data/My_pull_notin_ITPull.csv')\n",
    "their_list_not.to_csv('./Data/IT_Pull_notin_myPull_2.csv')"
   ]
  },
  {
   "cell_type": "code",
   "execution_count": 23,
   "metadata": {},
   "outputs": [
    {
     "name": "stdout",
     "output_type": "stream",
     "text": [
      "Empty DataFrame\n",
      "Columns: [System, Name of School, Listed Bank 1, Listed Bank 2, Listed Bank 3]\n",
      "Index: []\n"
     ]
    }
   ],
   "source": [
    "print(banks.loc[~banks['System'].isin(names['System'])])"
   ]
  },
  {
   "cell_type": "code",
   "execution_count": 24,
   "metadata": {},
   "outputs": [
    {
     "name": "stdout",
     "output_type": "stream",
     "text": [
      "                    Name of School                   System\n",
      "560          ACME DELCO ELEMENTARY  COLUMBUS COUNTY SCHOOLS\n",
      "561              ACME DELCO MIDDLE  COLUMBUS COUNTY SCHOOLS\n",
      "562         CERRO GORDO ELEMENTARY  COLUMBUS COUNTY SCHOOLS\n",
      "563           CHADBOURN ELEMENTARY  COLUMBUS COUNTY SCHOOLS\n",
      "564               CHADBOURN MIDDLE  COLUMBUS COUNTY SCHOOLS\n",
      "565             EAST COLUMBUS HIGH  COLUMBUS COUNTY SCHOOLS\n",
      "566           EVERGREEN ELEMENTARY  COLUMBUS COUNTY SCHOOLS\n",
      "567            GUIDEWAY ELEMENTARY  COLUMBUS COUNTY SCHOOLS\n",
      "568   HALLSBORO-ARTESIA ELEMENTARY  COLUMBUS COUNTY SCHOOLS\n",
      "569              HALLSBORO MIDDLE   COLUMBUS COUNTY SCHOOLS\n",
      "570                  NAKINA MIDDLE  COLUMBUS COUNTY SCHOOLS\n",
      "571            OLD DOCK ELEMENTARY  COLUMBUS COUNTY SCHOOLS\n",
      "572            SOUTH COLUMBUS HIGH  COLUMBUS COUNTY SCHOOLS\n",
      "573          TABOR CITY ELEMENTARY  COLUMBUS COUNTY SCHOOLS\n",
      "574              TABOR CITY MIDDLE  COLUMBUS COUNTY SCHOOLS\n",
      "575             WEST COLUMBUS HIGH  COLUMBUS COUNTY SCHOOLS\n",
      "576   WILLIAMS TOWNSHIP ELEMENTARY  COLUMBUS COUNTY SCHOOLS\n",
      "577                CCCA-FAIR BLUFF  COLUMBUS COUNTY SCHOOLS\n",
      "578                       CCCA-SCC  COLUMBUS COUNTY SCHOOLS\n",
      "1693        CHALONER MIDDLE SCHOOL           ROANOKE RAPIDS\n",
      "1694            BELMONT ELEMENTARY           ROANOKE RAPIDS\n",
      "1695    ROANOKE RAPIDS HIGH SCHOOL           ROANOKE RAPIDS\n",
      "1696            MANNING ELEMENTARY           ROANOKE RAPIDS\n",
      "1697                 PLACE TO PLAY           ROANOKE RAPIDS\n",
      "1698                  CLARA HEARNE           ROANOKE RAPIDS\n"
     ]
    }
   ],
   "source": [
    "print(names.loc[~names['System'].isin(banks['System'])])"
   ]
  },
  {
   "cell_type": "code",
   "execution_count": null,
   "metadata": {},
   "outputs": [],
   "source": []
  }
 ],
 "metadata": {
  "kernelspec": {
   "display_name": "Python 3",
   "language": "python",
   "name": "python3"
  },
  "language_info": {
   "codemirror_mode": {
    "name": "ipython",
    "version": 3
   },
   "file_extension": ".py",
   "mimetype": "text/x-python",
   "name": "python",
   "nbconvert_exporter": "python",
   "pygments_lexer": "ipython3",
   "version": "3.7.3"
  }
 },
 "nbformat": 4,
 "nbformat_minor": 2
}
