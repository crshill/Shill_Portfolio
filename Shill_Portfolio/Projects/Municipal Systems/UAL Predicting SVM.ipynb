{
 "cells": [
  {
   "cell_type": "code",
   "execution_count": 1,
   "metadata": {},
   "outputs": [],
   "source": [
    "import pandas as pd\n",
    "from sklearn import svm\n",
    "from sklearn.model_selection import cross_val_score\n",
    "from sklearn import metrics"
   ]
  },
  {
   "cell_type": "markdown",
   "metadata": {},
   "source": [
    "Here we are attempting to use a support vector machine classifier to help indicate if a municipality should be on the UAL.\n",
    "We will first attempt to predict if they areon the General Fund UAL (with and without water data)"
   ]
  },
  {
   "cell_type": "code",
   "execution_count": 29,
   "metadata": {},
   "outputs": [],
   "source": [
    "data = pd.read_excel('./Data/UAL_2015_to_2018_V2.xlsx')\n",
    "test = data.loc[data['Audit Year'] == 2018].drop(['Audit Year'], axis = 1)\n",
    "train = data.loc[data['Audit Year'] != 2018].drop(['Audit Year'], axis = 1)\n",
    "out = test.loc[:,['UnitYear', 'Internal Controls', 'Financial Issues General Fund', 'Financial Issues Water Sewer Fund']]\n",
    "names = test['UnitYear'].values"
   ]
  },
  {
   "cell_type": "markdown",
   "metadata": {},
   "source": [
    "Again we will start with the general fund, so let's drop the other indicating columns."
   ]
  },
  {
   "cell_type": "code",
   "execution_count": 3,
   "metadata": {},
   "outputs": [
    {
     "name": "stdout",
     "output_type": "stream",
     "text": [
      "Index(['UnitYear', 'FBA', 'FBA w/o Powell Bill', 'Total Expenditures',\n",
      "       '<8% FBA/Expenditures', '<8% FBA w/o Powell/ Expenditures',\n",
      "       'WS Quick Ratio <1', 'WS Working Capital',\n",
      "       'WS Cash Flow from ops less debt service', 'WS-EF- Interest Expense',\n",
      "       'Internal Controls', 'Financial Issues General Fund',\n",
      "       'Financial Issues Water Sewer Fund'],\n",
      "      dtype='object')\n"
     ]
    }
   ],
   "source": [
    "print(test.columns)"
   ]
  },
  {
   "cell_type": "code",
   "execution_count": 30,
   "metadata": {},
   "outputs": [],
   "source": [
    "test = test.drop(['Financial Issues Water Sewer Fund', 'Internal Controls'], axis = 1)\n",
    "train = train.drop(['Financial Issues Water Sewer Fund', 'Internal Controls'], axis = 1)\n"
   ]
  },
  {
   "cell_type": "markdown",
   "metadata": {},
   "source": [
    "now we will perform the SVM and test its accuracy."
   ]
  },
  {
   "cell_type": "code",
   "execution_count": 31,
   "metadata": {},
   "outputs": [
    {
     "name": "stdout",
     "output_type": "stream",
     "text": [
      "['FBA' 'FBA w/o Powell Bill' 'Total Expenditures' '<8% FBA/Expenditures'\n",
      " '<8% FBA w/o Powell/ Expenditures' 'WS Quick Ratio <1'\n",
      " 'WS Working Capital' 'WS Cash Flow from ops less debt service'\n",
      " 'WS-EF- Interest Expense']\n"
     ]
    },
    {
     "name": "stderr",
     "output_type": "stream",
     "text": [
      "C:\\Users\\lgc0069\\AppData\\Local\\Continuum\\anaconda3\\lib\\site-packages\\sklearn\\svm\\base.py:196: FutureWarning: The default value of gamma will change from 'auto' to 'scale' in version 0.22 to account better for unscaled features. Set gamma explicitly to 'auto' or 'scale' to avoid this warning.\n",
      "  \"avoid this warning.\", FutureWarning)\n"
     ]
    }
   ],
   "source": [
    "C = 1.0\n",
    "features = test.columns[1:-1].values\n",
    "print(features)\n",
    "Y = train['Financial Issues General Fund']\n",
    "X = train[features]\n",
    "svc = svm.SVC(kernel='rbf', C=C).fit(X, Y)"
   ]
  },
  {
   "cell_type": "code",
   "execution_count": 32,
   "metadata": {},
   "outputs": [
    {
     "name": "stdout",
     "output_type": "stream",
     "text": [
      "Accuracy :  0.9248747913188647\n"
     ]
    }
   ],
   "source": [
    "x_test = test[features]\n",
    "y_test = test['Financial Issues General Fund']\n",
    "on_ual = svc.predict(x_test)\n",
    "print('Accuracy : ',metrics.accuracy_score(y_test, on_ual))\n"
   ]
  },
  {
   "cell_type": "code",
   "execution_count": 7,
   "metadata": {},
   "outputs": [],
   "source": [
    "add = pd.DataFrame({'UnitYear':names, 'Genral Fund Prediction': on_ual})\n",
    "out = pd.merge(out, add, how = 'left', on = 'UnitYear')"
   ]
  },
  {
   "cell_type": "markdown",
   "metadata": {},
   "source": [
    "Now Lets try without the water sewer data."
   ]
  },
  {
   "cell_type": "code",
   "execution_count": 8,
   "metadata": {},
   "outputs": [
    {
     "name": "stdout",
     "output_type": "stream",
     "text": [
      "['FBA' 'FBA w/o Powell Bill' 'Total Expenditures' '<8% FBA/Expenditures'\n",
      " '<8% FBA w/o Powell/ Expenditures']\n"
     ]
    },
    {
     "name": "stderr",
     "output_type": "stream",
     "text": [
      "C:\\Users\\lgc0069\\AppData\\Local\\Continuum\\anaconda3\\lib\\site-packages\\sklearn\\svm\\base.py:196: FutureWarning: The default value of gamma will change from 'auto' to 'scale' in version 0.22 to account better for unscaled features. Set gamma explicitly to 'auto' or 'scale' to avoid this warning.\n",
      "  \"avoid this warning.\", FutureWarning)\n"
     ]
    }
   ],
   "source": [
    "C = 1.0\n",
    "features = test.columns[1:6].values\n",
    "print(features)\n",
    "X = train[features]\n",
    "svc = svm.SVC(kernel='rbf', C=C).fit(X, Y)"
   ]
  },
  {
   "cell_type": "code",
   "execution_count": 33,
   "metadata": {},
   "outputs": [
    {
     "name": "stdout",
     "output_type": "stream",
     "text": [
      "Accuracy :  0.9248747913188647\n"
     ]
    }
   ],
   "source": [
    "x_test = test[features]\n",
    "on_ual = svc.predict(x_test)\n",
    "print('Accuracy : ',metrics.accuracy_score(y_test, on_ual))"
   ]
  },
  {
   "cell_type": "code",
   "execution_count": 11,
   "metadata": {},
   "outputs": [
    {
     "data": {
      "text/plain": [
       "0"
      ]
     },
     "execution_count": 11,
     "metadata": {},
     "output_type": "execute_result"
    }
   ],
   "source": [
    "sum(on_ual)"
   ]
  },
  {
   "cell_type": "markdown",
   "metadata": {},
   "source": [
    "It appears that the statistuically best way to approach this is to say that NO ONE is on the UAL. This is a fairly subvjective list, and the vast majority are not in the UAL, so this is not too surprising.\n",
    "\n",
    "This is data that has not been normalized. We will do that now and redo the model."
   ]
  },
  {
   "cell_type": "code",
   "execution_count": 13,
   "metadata": {},
   "outputs": [],
   "source": [
    "from sklearn.preprocessing import Normalizer\n",
    "from sklearn.preprocessing import StandardScaler"
   ]
  },
  {
   "cell_type": "code",
   "execution_count": 24,
   "metadata": {},
   "outputs": [
    {
     "name": "stderr",
     "output_type": "stream",
     "text": [
      "C:\\Users\\lgc0069\\AppData\\Local\\Continuum\\anaconda3\\lib\\site-packages\\sklearn\\preprocessing\\data.py:645: DataConversionWarning: Data with input dtype int64, float64 were all converted to float64 by StandardScaler.\n",
      "  return self.partial_fit(X, y)\n",
      "C:\\Users\\lgc0069\\AppData\\Local\\Continuum\\anaconda3\\lib\\site-packages\\ipykernel_launcher.py:2: DataConversionWarning: Data with input dtype int64, float64 were all converted to float64 by StandardScaler.\n",
      "  \n"
     ]
    }
   ],
   "source": [
    "scaler = StandardScaler().fit(X)  \n",
    "scaled_X = scalx = scaler.transform(X)\n",
    "\n",
    "normer = Normalizer().fit(X)\n",
    "norm_X = normer.transform(X)\n",
    "\n",
    "svc_S = svm.SVC(kernel='rbf', C=C).fit(scaled_X, Y)\n",
    "svc_N = svm.SVC(kernel='linear', C=C).fit(norm_X, Y)"
   ]
  },
  {
   "cell_type": "code",
   "execution_count": 25,
   "metadata": {},
   "outputs": [
    {
     "name": "stderr",
     "output_type": "stream",
     "text": [
      "C:\\Users\\lgc0069\\AppData\\Local\\Continuum\\anaconda3\\lib\\site-packages\\sklearn\\preprocessing\\data.py:645: DataConversionWarning: Data with input dtype int64, float64 were all converted to float64 by StandardScaler.\n",
      "  return self.partial_fit(X, y)\n",
      "C:\\Users\\lgc0069\\AppData\\Local\\Continuum\\anaconda3\\lib\\site-packages\\ipykernel_launcher.py:2: DataConversionWarning: Data with input dtype int64, float64 were all converted to float64 by StandardScaler.\n",
      "  \n"
     ]
    }
   ],
   "source": [
    "scaler = StandardScaler().fit(x_test)  \n",
    "scaled_X_test = scalx = scaler.transform(x_test)\n",
    "\n",
    "normer = Normalizer().fit(x_test)\n",
    "norm_X_test = normer.transform(x_test)"
   ]
  },
  {
   "cell_type": "code",
   "execution_count": 26,
   "metadata": {},
   "outputs": [
    {
     "name": "stdout",
     "output_type": "stream",
     "text": [
      "Accuracy :  0.8797996661101837\n",
      "Accuracy :  0.8797996661101837\n"
     ]
    }
   ],
   "source": [
    "on_ual_S = svc_S.predict(scaled_X_test)\n",
    "print('Accuracy : ',metrics.accuracy_score(y_test, on_ual_S))\n",
    "\n",
    "on_ual_N = svc_N.predict(norm_X_test)\n",
    "print('Accuracy : ',metrics.accuracy_score(y_test, on_ual_N))"
   ]
  },
  {
   "cell_type": "markdown",
   "metadata": {},
   "source": [
    "Again, we see the same phenomenon. Perhaps SVM is not the way to go here. There is likely not a large enough disparity in the vector space between on the UAL and not on the UAL.\n",
    "\n",
    "Now lets try predicting something that isn't so straightforward and has a fair degree of subjectivity.\n",
    "Internal Control Issues"
   ]
  },
  {
   "cell_type": "code",
   "execution_count": 17,
   "metadata": {},
   "outputs": [],
   "source": [
    "test = data.loc[data['Audit Year'] == 2018].drop(['Audit Year'], axis = 1)\n",
    "train = data.loc[data['Audit Year'] != 2018].drop(['Audit Year'], axis = 1)\n",
    "\n",
    "test = test.drop(['Financial Issues Water Sewer Fund', 'Financial Issues General Fund'], axis = 1)\n",
    "train = train.drop(['Financial Issues Water Sewer Fund', 'Financial Issues General Fund'], axis = 1)\n",
    "\n",
    "y_test = test['Internal Controls']\n",
    "Y = train['Internal Controls']"
   ]
  },
  {
   "cell_type": "code",
   "execution_count": 21,
   "metadata": {},
   "outputs": [],
   "source": [
    "svc_S = svm.SVC(kernel='linear', C=C).fit(scaled_X, Y)\n",
    "svc_N = svm.SVC(kernel='linear', C=C).fit(norm_X, Y)"
   ]
  },
  {
   "cell_type": "code",
   "execution_count": 23,
   "metadata": {},
   "outputs": [
    {
     "name": "stdout",
     "output_type": "stream",
     "text": [
      "Accuracy :  0.8797996661101837\n",
      "Accuracy :  0.8797996661101837\n",
      "0\n"
     ]
    }
   ],
   "source": [
    "on_ual_S = svc_S.predict(scaled_X_test)\n",
    "print('Accuracy : ',metrics.accuracy_score(y_test, on_ual_S))\n",
    "\n",
    "on_ual_N = svc_N.predict(norm_X_test)\n",
    "print('Accuracy : ',metrics.accuracy_score(y_test, on_ual_N))\n",
    "\n",
    "print(sum(on_ual_N))"
   ]
  },
  {
   "cell_type": "code",
   "execution_count": 148,
   "metadata": {},
   "outputs": [],
   "source": [
    "add = pd.DataFrame({'UnitYear':names, 'Internal Control Prediction': on_ual_S})\n",
    "out = pd.merge(out, add, how = 'left', on = 'UnitYear')"
   ]
  },
  {
   "cell_type": "markdown",
   "metadata": {},
   "source": [
    "Great! Not Bad for something that is fairly subjective. Now lets try water sewer.\n",
    "\n",
    "First let's re-introduce the water sewer data, and drop all units that don't actually run a water utility indicated by an 'n' in the rating column."
   ]
  },
  {
   "cell_type": "code",
   "execution_count": 149,
   "metadata": {},
   "outputs": [],
   "source": [
    "test = data.loc[data['Audit Year'] == 2018].drop(['Audit Year'], axis = 1).loc[data['Financial Issues Water Sewer Fund'] != -1]\n",
    "train = data.loc[data['Audit Year'] != 2018].drop(['Audit Year'], axis = 1).loc[data['Financial Issues Water Sewer Fund'] != -1]\n",
    "\n",
    "\n",
    "test = test.drop(['Financial Issues General Fund', 'Internal Controls'], axis = 1)\n",
    "train = train.drop(['Financial Issues General Fund', 'Internal Controls'], axis = 1)"
   ]
  },
  {
   "cell_type": "code",
   "execution_count": 150,
   "metadata": {},
   "outputs": [
    {
     "name": "stdout",
     "output_type": "stream",
     "text": [
      "['WS Quick Ratio <1' 'WS Working Capital'\n",
      " 'WS Cash Flow from ops less debt service' 'WS-EF- Interest Expense']\n"
     ]
    },
    {
     "name": "stderr",
     "output_type": "stream",
     "text": [
      "C:\\Users\\lgc0069\\AppData\\Local\\Continuum\\anaconda3\\lib\\site-packages\\sklearn\\svm\\base.py:196: FutureWarning: The default value of gamma will change from 'auto' to 'scale' in version 0.22 to account better for unscaled features. Set gamma explicitly to 'auto' or 'scale' to avoid this warning.\n",
      "  \"avoid this warning.\", FutureWarning)\n"
     ]
    }
   ],
   "source": [
    "C = 1.0\n",
    "features = test.columns[6:-1].values\n",
    "print(features)\n",
    "\n",
    "Y = train['Financial Issues Water Sewer Fund']\n",
    "X = train[features]\n",
    "\n",
    "svc = svm.SVC(kernel='rbf', C=C).fit(X, Y)"
   ]
  },
  {
   "cell_type": "code",
   "execution_count": 151,
   "metadata": {},
   "outputs": [
    {
     "name": "stdout",
     "output_type": "stream",
     "text": [
      "Accuracy :  0.8411910669975186\n"
     ]
    }
   ],
   "source": [
    "x_test = test[features]\n",
    "y_test = test['Financial Issues Water Sewer Fund']\n",
    "on_ual = svc.predict(x_test)\n",
    "print('Accuracy : ',metrics.accuracy_score(y_test, on_ual))"
   ]
  },
  {
   "cell_type": "code",
   "execution_count": 152,
   "metadata": {},
   "outputs": [],
   "source": [
    "names = test['UnitYear'].values\n",
    "add = pd.DataFrame({'UnitYear':names, 'Water Sewer Fund Prediction': on_ual})\n",
    "out = pd.merge(out, add, how = 'left', on = 'UnitYear')"
   ]
  },
  {
   "cell_type": "code",
   "execution_count": 153,
   "metadata": {},
   "outputs": [
    {
     "name": "stderr",
     "output_type": "stream",
     "text": [
      "C:\\Users\\lgc0069\\AppData\\Local\\Continuum\\anaconda3\\lib\\site-packages\\sklearn\\preprocessing\\data.py:645: DataConversionWarning: Data with input dtype int64, float64 were all converted to float64 by StandardScaler.\n",
      "  return self.partial_fit(X, y)\n",
      "C:\\Users\\lgc0069\\AppData\\Local\\Continuum\\anaconda3\\lib\\site-packages\\ipykernel_launcher.py:2: DataConversionWarning: Data with input dtype int64, float64 were all converted to float64 by StandardScaler.\n",
      "  \n",
      "C:\\Users\\lgc0069\\AppData\\Local\\Continuum\\anaconda3\\lib\\site-packages\\sklearn\\preprocessing\\data.py:645: DataConversionWarning: Data with input dtype int64, float64 were all converted to float64 by StandardScaler.\n",
      "  return self.partial_fit(X, y)\n",
      "C:\\Users\\lgc0069\\AppData\\Local\\Continuum\\anaconda3\\lib\\site-packages\\ipykernel_launcher.py:5: DataConversionWarning: Data with input dtype int64, float64 were all converted to float64 by StandardScaler.\n",
      "  \"\"\"\n"
     ]
    }
   ],
   "source": [
    "scaler = StandardScaler().fit(X)  \n",
    "scaled_X = scalx = scaler.transform(X)\n",
    "\n",
    "scaler = StandardScaler().fit(x_test)  \n",
    "scaled_X_test = scalx = scaler.transform(x_test)\n",
    "\n",
    "svc_S = svm.SVC(kernel='rbf', C=C).fit(scaled_X, Y)"
   ]
  },
  {
   "cell_type": "code",
   "execution_count": 154,
   "metadata": {},
   "outputs": [
    {
     "name": "stdout",
     "output_type": "stream",
     "text": [
      "Accuracy :  0.8411910669975186\n"
     ]
    }
   ],
   "source": [
    "on_ual_S = svc_S.predict(scaled_X_test)\n",
    "print('Accuracy : ',metrics.accuracy_score(y_test, on_ual_S))"
   ]
  },
  {
   "cell_type": "code",
   "execution_count": 156,
   "metadata": {},
   "outputs": [],
   "source": [
    "out.to_excel('./Data/UAL_Predictions.xlsx')"
   ]
  },
  {
   "cell_type": "code",
   "execution_count": null,
   "metadata": {},
   "outputs": [],
   "source": []
  }
 ],
 "metadata": {
  "kernelspec": {
   "display_name": "Python 3",
   "language": "python",
   "name": "python3"
  },
  "language_info": {
   "codemirror_mode": {
    "name": "ipython",
    "version": 3
   },
   "file_extension": ".py",
   "mimetype": "text/x-python",
   "name": "python",
   "nbconvert_exporter": "python",
   "pygments_lexer": "ipython3",
   "version": "3.7.3"
  }
 },
 "nbformat": 4,
 "nbformat_minor": 2
}
