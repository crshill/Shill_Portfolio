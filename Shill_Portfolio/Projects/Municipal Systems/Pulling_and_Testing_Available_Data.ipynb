{
 "cells": [
  {
   "cell_type": "code",
   "execution_count": 1,
   "metadata": {},
   "outputs": [],
   "source": [
    "import pandas as pd\n",
    "import numpy as np\n",
    "import pyodbc"
   ]
  },
  {
   "cell_type": "code",
   "execution_count": 7,
   "metadata": {},
   "outputs": [],
   "source": [
    "srvr = 'SQLMSCP3'\n",
    "db = 'SLG_Reporting'\n",
    "\n",
    "cnxn = pyodbc.connect('DRIVER={SQL Server};UID=LGC0069;WSID=LGC-5CG62446DY;Trusted_Connection=Yes;SERVER='+srvr+';DATABASE='+db)\n",
    "        \n",
    "query = \"\"\"SELECT [Name], [UnitCode], [UnitClassification], [Population] FROM Unit\"\"\"\n",
    "        #[Unit.CurrentWaterSewer], [Unit.CurrentElectricFund], [Unit.CurrentGeneralFund], [UnitDetail.AuditYear] FROM Unit, UnitDetail\"\"\"\n",
    "query1 = \"\"\"SELECT AuditYear, UnitCode, IntergovernmentalDataCode, IntergovernmentalDataValue,\n",
    "        IntergovernmentalSourceCode FROM UnitDetail\"\"\"\n",
    "query2 = \"SELECT [IntergovernmentalDataCode],[IntergovernmentalDataCodeDescription], [AuditYear] FROM IntergovernmentalData\""
   ]
  },
  {
   "cell_type": "code",
   "execution_count": 8,
   "metadata": {},
   "outputs": [],
   "source": [
    "names = pd.read_sql(query, cnxn)\n",
    "names.drop_duplicates(inplace = True)\n"
   ]
  },
  {
   "cell_type": "code",
   "execution_count": null,
   "metadata": {},
   "outputs": [],
   "source": []
  },
  {
   "cell_type": "code",
   "execution_count": 9,
   "metadata": {
    "scrolled": true
   },
   "outputs": [
    {
     "name": "stdout",
     "output_type": "stream",
     "text": [
      "done\n"
     ]
    }
   ],
   "source": [
    "data = pd.read_sql(query1, cnxn)\n",
    "desc = pd.read_sql(query2, cnxn)\n",
    "desc.drop_duplicates(inplace = True)\n",
    "print('done')\n"
   ]
  },
  {
   "cell_type": "code",
   "execution_count": 10,
   "metadata": {},
   "outputs": [
    {
     "data": {
      "text/html": [
       "<div>\n",
       "<style scoped>\n",
       "    .dataframe tbody tr th:only-of-type {\n",
       "        vertical-align: middle;\n",
       "    }\n",
       "\n",
       "    .dataframe tbody tr th {\n",
       "        vertical-align: top;\n",
       "    }\n",
       "\n",
       "    .dataframe thead th {\n",
       "        text-align: right;\n",
       "    }\n",
       "</style>\n",
       "<table border=\"1\" class=\"dataframe\">\n",
       "  <thead>\n",
       "    <tr style=\"text-align: right;\">\n",
       "      <th></th>\n",
       "      <th>IntergovernmentalDataCode</th>\n",
       "      <th>IntergovernmentalDataCodeDescription</th>\n",
       "      <th>AuditYear</th>\n",
       "    </tr>\n",
       "  </thead>\n",
       "  <tbody>\n",
       "    <tr>\n",
       "      <th>0</th>\n",
       "      <td>100</td>\n",
       "      <td>E-EF- Principal paid on LTD</td>\n",
       "      <td>2011</td>\n",
       "    </tr>\n",
       "    <tr>\n",
       "      <th>1</th>\n",
       "      <td>100</td>\n",
       "      <td>Electric - Principal Paid - Cash Flow</td>\n",
       "      <td>2012</td>\n",
       "    </tr>\n",
       "    <tr>\n",
       "      <th>2</th>\n",
       "      <td>100</td>\n",
       "      <td>Electric - Principal Paid - Cash Flow</td>\n",
       "      <td>2013</td>\n",
       "    </tr>\n",
       "    <tr>\n",
       "      <th>3</th>\n",
       "      <td>100</td>\n",
       "      <td>Electric - Principal Paid - Cash Flow</td>\n",
       "      <td>2014</td>\n",
       "    </tr>\n",
       "    <tr>\n",
       "      <th>4</th>\n",
       "      <td>100</td>\n",
       "      <td>Electric - Principal Paid - Cash Flow</td>\n",
       "      <td>2015</td>\n",
       "    </tr>\n",
       "  </tbody>\n",
       "</table>\n",
       "</div>"
      ],
      "text/plain": [
       "  IntergovernmentalDataCode   IntergovernmentalDataCodeDescription  AuditYear\n",
       "0                       100            E-EF- Principal paid on LTD       2011\n",
       "1                       100  Electric - Principal Paid - Cash Flow       2012\n",
       "2                       100  Electric - Principal Paid - Cash Flow       2013\n",
       "3                       100  Electric - Principal Paid - Cash Flow       2014\n",
       "4                       100  Electric - Principal Paid - Cash Flow       2015"
      ]
     },
     "execution_count": 10,
     "metadata": {},
     "output_type": "execute_result"
    }
   ],
   "source": [
    "desc.head()"
   ]
  },
  {
   "cell_type": "code",
   "execution_count": 11,
   "metadata": {},
   "outputs": [],
   "source": [
    "#data1 = pd.merge(data,desc, how = 'left', on = ['IntergovernmentalDataCode', 'AuditYear'])\n",
    "data1 = pd.merge(data, names, how = 'left', on = 'UnitCode')"
   ]
  },
  {
   "cell_type": "code",
   "execution_count": 12,
   "metadata": {},
   "outputs": [],
   "source": [
    "data1 = data1.sort_values('AuditYear', ascending = False).sort_values('UnitCode')"
   ]
  },
  {
   "cell_type": "code",
   "execution_count": 13,
   "metadata": {},
   "outputs": [
    {
     "data": {
      "text/html": [
       "<div>\n",
       "<style scoped>\n",
       "    .dataframe tbody tr th:only-of-type {\n",
       "        vertical-align: middle;\n",
       "    }\n",
       "\n",
       "    .dataframe tbody tr th {\n",
       "        vertical-align: top;\n",
       "    }\n",
       "\n",
       "    .dataframe thead th {\n",
       "        text-align: right;\n",
       "    }\n",
       "</style>\n",
       "<table border=\"1\" class=\"dataframe\">\n",
       "  <thead>\n",
       "    <tr style=\"text-align: right;\">\n",
       "      <th></th>\n",
       "      <th>AuditYear</th>\n",
       "      <th>UnitCode</th>\n",
       "      <th>IntergovernmentalDataCode</th>\n",
       "      <th>IntergovernmentalDataValue</th>\n",
       "      <th>IntergovernmentalSourceCode</th>\n",
       "      <th>Name</th>\n",
       "      <th>UnitClassification</th>\n",
       "      <th>Population</th>\n",
       "    </tr>\n",
       "  </thead>\n",
       "  <tbody>\n",
       "    <tr>\n",
       "      <th>0</th>\n",
       "      <td>2007</td>\n",
       "      <td>50001</td>\n",
       "      <td>100</td>\n",
       "      <td>0</td>\n",
       "      <td>CCH</td>\n",
       "      <td>ABERDEEN</td>\n",
       "      <td>A</td>\n",
       "      <td>6726.0</td>\n",
       "    </tr>\n",
       "    <tr>\n",
       "      <th>841080</th>\n",
       "      <td>2010</td>\n",
       "      <td>50001</td>\n",
       "      <td>dexp15150</td>\n",
       "      <td>0</td>\n",
       "      <td>AFIR</td>\n",
       "      <td>ABERDEEN</td>\n",
       "      <td>A</td>\n",
       "      <td>6726.0</td>\n",
       "    </tr>\n",
       "    <tr>\n",
       "      <th>3733744</th>\n",
       "      <td>2016</td>\n",
       "      <td>50001</td>\n",
       "      <td>d.ws40050</td>\n",
       "      <td>0</td>\n",
       "      <td>AFIR</td>\n",
       "      <td>ABERDEEN</td>\n",
       "      <td>A</td>\n",
       "      <td>6726.0</td>\n",
       "    </tr>\n",
       "    <tr>\n",
       "      <th>4564515</th>\n",
       "      <td>2018</td>\n",
       "      <td>50001</td>\n",
       "      <td>385</td>\n",
       "      <td>14294392</td>\n",
       "      <td>CCH</td>\n",
       "      <td>ABERDEEN</td>\n",
       "      <td>A</td>\n",
       "      <td>6726.0</td>\n",
       "    </tr>\n",
       "    <tr>\n",
       "      <th>2179943</th>\n",
       "      <td>2013</td>\n",
       "      <td>50001</td>\n",
       "      <td>fexp15130</td>\n",
       "      <td>0</td>\n",
       "      <td>AFIR</td>\n",
       "      <td>ABERDEEN</td>\n",
       "      <td>A</td>\n",
       "      <td>6726.0</td>\n",
       "    </tr>\n",
       "    <tr>\n",
       "      <th>130385</th>\n",
       "      <td>2008</td>\n",
       "      <td>50001</td>\n",
       "      <td>107</td>\n",
       "      <td>0</td>\n",
       "      <td>CCH</td>\n",
       "      <td>ABERDEEN</td>\n",
       "      <td>A</td>\n",
       "      <td>6726.0</td>\n",
       "    </tr>\n",
       "    <tr>\n",
       "      <th>3736088</th>\n",
       "      <td>2016</td>\n",
       "      <td>50001</td>\n",
       "      <td>d.ws40090</td>\n",
       "      <td>0</td>\n",
       "      <td>AFIR</td>\n",
       "      <td>ABERDEEN</td>\n",
       "      <td>A</td>\n",
       "      <td>6726.0</td>\n",
       "    </tr>\n",
       "    <tr>\n",
       "      <th>841684</th>\n",
       "      <td>2010</td>\n",
       "      <td>50001</td>\n",
       "      <td>dexp15160</td>\n",
       "      <td>0</td>\n",
       "      <td>AFIR</td>\n",
       "      <td>ABERDEEN</td>\n",
       "      <td>A</td>\n",
       "      <td>6726.0</td>\n",
       "    </tr>\n",
       "    <tr>\n",
       "      <th>2864666</th>\n",
       "      <td>2014</td>\n",
       "      <td>50001</td>\n",
       "      <td>rev10800</td>\n",
       "      <td>49078</td>\n",
       "      <td>AFIR</td>\n",
       "      <td>ABERDEEN</td>\n",
       "      <td>A</td>\n",
       "      <td>6726.0</td>\n",
       "    </tr>\n",
       "    <tr>\n",
       "      <th>992421</th>\n",
       "      <td>2011</td>\n",
       "      <td>50001</td>\n",
       "      <td>331</td>\n",
       "      <td>0</td>\n",
       "      <td>CCH</td>\n",
       "      <td>ABERDEEN</td>\n",
       "      <td>A</td>\n",
       "      <td>6726.0</td>\n",
       "    </tr>\n",
       "  </tbody>\n",
       "</table>\n",
       "</div>"
      ],
      "text/plain": [
       "         AuditYear UnitCode IntergovernmentalDataCode  \\\n",
       "0             2007    50001                       100   \n",
       "841080        2010    50001                 dexp15150   \n",
       "3733744       2016    50001                 d.ws40050   \n",
       "4564515       2018    50001                       385   \n",
       "2179943       2013    50001                 fexp15130   \n",
       "130385        2008    50001                       107   \n",
       "3736088       2016    50001                 d.ws40090   \n",
       "841684        2010    50001                 dexp15160   \n",
       "2864666       2014    50001                  rev10800   \n",
       "992421        2011    50001                       331   \n",
       "\n",
       "        IntergovernmentalDataValue IntergovernmentalSourceCode      Name  \\\n",
       "0                                0                         CCH  ABERDEEN   \n",
       "841080                           0                        AFIR  ABERDEEN   \n",
       "3733744                          0                        AFIR  ABERDEEN   \n",
       "4564515                   14294392                         CCH  ABERDEEN   \n",
       "2179943                          0                        AFIR  ABERDEEN   \n",
       "130385                           0                         CCH  ABERDEEN   \n",
       "3736088                          0                        AFIR  ABERDEEN   \n",
       "841684                           0                        AFIR  ABERDEEN   \n",
       "2864666                      49078                        AFIR  ABERDEEN   \n",
       "992421                           0                         CCH  ABERDEEN   \n",
       "\n",
       "        UnitClassification  Population  \n",
       "0                        A      6726.0  \n",
       "841080                   A      6726.0  \n",
       "3733744                  A      6726.0  \n",
       "4564515                  A      6726.0  \n",
       "2179943                  A      6726.0  \n",
       "130385                   A      6726.0  \n",
       "3736088                  A      6726.0  \n",
       "841684                   A      6726.0  \n",
       "2864666                  A      6726.0  \n",
       "992421                   A      6726.0  "
      ]
     },
     "execution_count": 13,
     "metadata": {},
     "output_type": "execute_result"
    }
   ],
   "source": [
    "data1.head(10)"
   ]
  },
  {
   "cell_type": "code",
   "execution_count": 14,
   "metadata": {},
   "outputs": [],
   "source": [
    "data1 = data1.loc[data1['UnitClassification'].isin(['A','B'])]"
   ]
  },
  {
   "cell_type": "code",
   "execution_count": 16,
   "metadata": {},
   "outputs": [
    {
     "data": {
      "text/plain": [
       "4749943"
      ]
     },
     "execution_count": 16,
     "metadata": {},
     "output_type": "execute_result"
    }
   ],
   "source": [
    "len(data1)"
   ]
  },
  {
   "cell_type": "code",
   "execution_count": 43,
   "metadata": {},
   "outputs": [],
   "source": [
    "counties = data1.loc[data1['UnitClassification']=='B']"
   ]
  },
  {
   "cell_type": "code",
   "execution_count": 44,
   "metadata": {},
   "outputs": [
    {
     "data": {
      "text/plain": [
       "768582"
      ]
     },
     "execution_count": 44,
     "metadata": {},
     "output_type": "execute_result"
    }
   ],
   "source": [
    "len(counties)"
   ]
  },
  {
   "cell_type": "markdown",
   "metadata": {},
   "source": [
    "Create a pivot table that shows how the data code changes over the years."
   ]
  },
  {
   "cell_type": "code",
   "execution_count": 6,
   "metadata": {},
   "outputs": [],
   "source": [
    "fields = desc.pivot(index = 'IntergovernmentalDataCode', columns = 'AuditYear', values = 'IntergovernmentalDataCodeDescription')"
   ]
  },
  {
   "cell_type": "code",
   "execution_count": 7,
   "metadata": {},
   "outputs": [
    {
     "data": {
      "text/html": [
       "<div>\n",
       "<style scoped>\n",
       "    .dataframe tbody tr th:only-of-type {\n",
       "        vertical-align: middle;\n",
       "    }\n",
       "\n",
       "    .dataframe tbody tr th {\n",
       "        vertical-align: top;\n",
       "    }\n",
       "\n",
       "    .dataframe thead th {\n",
       "        text-align: right;\n",
       "    }\n",
       "</style>\n",
       "<table border=\"1\" class=\"dataframe\">\n",
       "  <thead>\n",
       "    <tr style=\"text-align: right;\">\n",
       "      <th>AuditYear</th>\n",
       "      <th>2011</th>\n",
       "      <th>2012</th>\n",
       "      <th>2013</th>\n",
       "      <th>2014</th>\n",
       "      <th>2015</th>\n",
       "      <th>2016</th>\n",
       "      <th>2017</th>\n",
       "      <th>2018</th>\n",
       "    </tr>\n",
       "    <tr>\n",
       "      <th>IntergovernmentalDataCode</th>\n",
       "      <th></th>\n",
       "      <th></th>\n",
       "      <th></th>\n",
       "      <th></th>\n",
       "      <th></th>\n",
       "      <th></th>\n",
       "      <th></th>\n",
       "      <th></th>\n",
       "    </tr>\n",
       "  </thead>\n",
       "  <tbody>\n",
       "    <tr>\n",
       "      <th>100</th>\n",
       "      <td>E-EF- Principal paid on LTD</td>\n",
       "      <td>Electric - Principal Paid - Cash Flow</td>\n",
       "      <td>Electric - Principal Paid - Cash Flow</td>\n",
       "      <td>Electric - Principal Paid - Cash Flow</td>\n",
       "      <td>Electric - Principal Paid - Cash Flow</td>\n",
       "      <td>Electric - Principal Paid - Cash Flow</td>\n",
       "      <td>Electric - Principal Paid - Cash Flow</td>\n",
       "      <td>Electric - Principal Paid - Cash Flow</td>\n",
       "    </tr>\n",
       "    <tr>\n",
       "      <th>101</th>\n",
       "      <td>E-EF- Capital Outlay (SCF)</td>\n",
       "      <td>Electric - Capital Outlay - Cash Flow</td>\n",
       "      <td>Electric - Capital Outlay - Cash Flow</td>\n",
       "      <td>Electric - Capital Outlay - Cash Flow</td>\n",
       "      <td>Electric - Capital Outlay - Cash Flow</td>\n",
       "      <td>Electric - Capital Outlay - Cash Flow</td>\n",
       "      <td>Electric - Capital Outlay - Cash Flow</td>\n",
       "      <td>Electric - Capital Outlay - Cash Flow</td>\n",
       "    </tr>\n",
       "    <tr>\n",
       "      <th>102</th>\n",
       "      <td>Tax Collection Rate - Excluding Motor Vehicles</td>\n",
       "      <td>NaN</td>\n",
       "      <td>NaN</td>\n",
       "      <td>Tax collection Rate - Excluding Vehicles</td>\n",
       "      <td>Tax collection Rate - Excluding Vehicles</td>\n",
       "      <td>Tax collection Rate - Excluding Vehicles</td>\n",
       "      <td>Tax collection Rate - Excluding Vehicles</td>\n",
       "      <td>Tax collection Rate - Excluding Vehicles</td>\n",
       "    </tr>\n",
       "    <tr>\n",
       "      <th>103</th>\n",
       "      <td>Tax Collection Rate - Motor Vehicles</td>\n",
       "      <td>NaN</td>\n",
       "      <td>NaN</td>\n",
       "      <td>Tax Collection Rate - Vehicles</td>\n",
       "      <td>Tax Collection Rate - Vehicles</td>\n",
       "      <td>Tax Collection Rate - Vehicles</td>\n",
       "      <td>Tax Collection Rate - Vehicles</td>\n",
       "      <td>Tax Collection Rate - Vehicles</td>\n",
       "    </tr>\n",
       "    <tr>\n",
       "      <th>104</th>\n",
       "      <td>Hospital-EF- Capital Outlays</td>\n",
       "      <td>NaN</td>\n",
       "      <td>NaN</td>\n",
       "      <td>Hospital-EF- Capital Outlays</td>\n",
       "      <td>NaN</td>\n",
       "      <td>NaN</td>\n",
       "      <td>Hospital-EF- Capital Outlays</td>\n",
       "      <td>Hospital-EF- Capital Outlays</td>\n",
       "    </tr>\n",
       "  </tbody>\n",
       "</table>\n",
       "</div>"
      ],
      "text/plain": [
       "AuditYear                                                            2011  \\\n",
       "IntergovernmentalDataCode                                                   \n",
       "100                                           E-EF- Principal paid on LTD   \n",
       "101                                            E-EF- Capital Outlay (SCF)   \n",
       "102                        Tax Collection Rate - Excluding Motor Vehicles   \n",
       "103                                  Tax Collection Rate - Motor Vehicles   \n",
       "104                                          Hospital-EF- Capital Outlays   \n",
       "\n",
       "AuditYear                                                   2012  \\\n",
       "IntergovernmentalDataCode                                          \n",
       "100                        Electric - Principal Paid - Cash Flow   \n",
       "101                        Electric - Capital Outlay - Cash Flow   \n",
       "102                                                          NaN   \n",
       "103                                                          NaN   \n",
       "104                                                          NaN   \n",
       "\n",
       "AuditYear                                                   2013  \\\n",
       "IntergovernmentalDataCode                                          \n",
       "100                        Electric - Principal Paid - Cash Flow   \n",
       "101                        Electric - Capital Outlay - Cash Flow   \n",
       "102                                                          NaN   \n",
       "103                                                          NaN   \n",
       "104                                                          NaN   \n",
       "\n",
       "AuditYear                                                      2014  \\\n",
       "IntergovernmentalDataCode                                             \n",
       "100                           Electric - Principal Paid - Cash Flow   \n",
       "101                           Electric - Capital Outlay - Cash Flow   \n",
       "102                        Tax collection Rate - Excluding Vehicles   \n",
       "103                                  Tax Collection Rate - Vehicles   \n",
       "104                                    Hospital-EF- Capital Outlays   \n",
       "\n",
       "AuditYear                                                      2015  \\\n",
       "IntergovernmentalDataCode                                             \n",
       "100                           Electric - Principal Paid - Cash Flow   \n",
       "101                           Electric - Capital Outlay - Cash Flow   \n",
       "102                        Tax collection Rate - Excluding Vehicles   \n",
       "103                                  Tax Collection Rate - Vehicles   \n",
       "104                                                             NaN   \n",
       "\n",
       "AuditYear                                                      2016  \\\n",
       "IntergovernmentalDataCode                                             \n",
       "100                           Electric - Principal Paid - Cash Flow   \n",
       "101                           Electric - Capital Outlay - Cash Flow   \n",
       "102                        Tax collection Rate - Excluding Vehicles   \n",
       "103                                  Tax Collection Rate - Vehicles   \n",
       "104                                                             NaN   \n",
       "\n",
       "AuditYear                                                      2017  \\\n",
       "IntergovernmentalDataCode                                             \n",
       "100                           Electric - Principal Paid - Cash Flow   \n",
       "101                           Electric - Capital Outlay - Cash Flow   \n",
       "102                        Tax collection Rate - Excluding Vehicles   \n",
       "103                                  Tax Collection Rate - Vehicles   \n",
       "104                                    Hospital-EF- Capital Outlays   \n",
       "\n",
       "AuditYear                                                      2018  \n",
       "IntergovernmentalDataCode                                            \n",
       "100                           Electric - Principal Paid - Cash Flow  \n",
       "101                           Electric - Capital Outlay - Cash Flow  \n",
       "102                        Tax collection Rate - Excluding Vehicles  \n",
       "103                                  Tax Collection Rate - Vehicles  \n",
       "104                                    Hospital-EF- Capital Outlays  "
      ]
     },
     "execution_count": 7,
     "metadata": {},
     "output_type": "execute_result"
    }
   ],
   "source": [
    "fields.head()"
   ]
  },
  {
   "cell_type": "code",
   "execution_count": 8,
   "metadata": {},
   "outputs": [],
   "source": [
    "fields.to_csv('./Data/SQL_Data_Fields_Description.csv')"
   ]
  },
  {
   "cell_type": "markdown",
   "metadata": {},
   "source": [
    "Unstack data so that the unit name and unit code are identifiers over audit years with column names being the data code and values being the data code values. "
   ]
  },
  {
   "cell_type": "code",
   "execution_count": 23,
   "metadata": {},
   "outputs": [],
   "source": [
    "datapiv = data1.set_index(['UnitCode', 'Name', 'AuditYear', 'UnitClassification','Population','IntergovernmentalDataCode']).unstack(level=-1)"
   ]
  },
  {
   "cell_type": "code",
   "execution_count": null,
   "metadata": {},
   "outputs": [],
   "source": []
  },
  {
   "cell_type": "code",
   "execution_count": 25,
   "metadata": {},
   "outputs": [],
   "source": [
    "datapiv.to_csv('./Data/Test_unstack.csv')"
   ]
  },
  {
   "cell_type": "code",
   "execution_count": null,
   "metadata": {},
   "outputs": [],
   "source": []
  }
 ],
 "metadata": {
  "kernelspec": {
   "display_name": "Python 3",
   "language": "python",
   "name": "python3"
  },
  "language_info": {
   "codemirror_mode": {
    "name": "ipython",
    "version": 3
   },
   "file_extension": ".py",
   "mimetype": "text/x-python",
   "name": "python",
   "nbconvert_exporter": "python",
   "pygments_lexer": "ipython3",
   "version": "3.7.3"
  }
 },
 "nbformat": 4,
 "nbformat_minor": 2
}
