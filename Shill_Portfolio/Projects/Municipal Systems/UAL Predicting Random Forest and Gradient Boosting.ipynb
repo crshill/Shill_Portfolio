{
 "cells": [
  {
   "cell_type": "code",
   "execution_count": 2,
   "metadata": {},
   "outputs": [],
   "source": [
    "from sklearn.ensemble import RandomForestClassifier\n",
    "from sklearn import metrics\n",
    "import pandas as pd"
   ]
  },
  {
   "cell_type": "code",
   "execution_count": 3,
   "metadata": {},
   "outputs": [],
   "source": [
    "data = pd.read_excel('./Data/UAL_2015_to_2018_V2.xlsx')\n",
    "test = data.loc[data['Audit Year'] == 2018].drop(['Audit Year'], axis = 1)\n",
    "train = data.loc[data['Audit Year'] != 2018].drop(['Audit Year'], axis = 1)\n",
    "out = test.loc[:,['UnitYear', 'Internal Controls', 'Financial Issues General Fund', 'Financial Issues Water Sewer Fund']]\n",
    "names = test['UnitYear'].values"
   ]
  },
  {
   "cell_type": "code",
   "execution_count": 4,
   "metadata": {},
   "outputs": [],
   "source": [
    "test = test.drop(['Financial Issues Water Sewer Fund', 'Internal Controls'], axis = 1)\n",
    "train = train.drop(['Financial Issues Water Sewer Fund', 'Internal Controls'], axis = 1)"
   ]
  },
  {
   "cell_type": "code",
   "execution_count": 5,
   "metadata": {},
   "outputs": [
    {
     "name": "stdout",
     "output_type": "stream",
     "text": [
      "['FBA' 'FBA w/o Powell Bill' 'Total Expenditures' '<8% FBA/Expenditures'\n",
      " '<8% FBA w/o Powell/ Expenditures' 'WS Quick Ratio <1'\n",
      " 'WS Working Capital' 'WS Cash Flow from ops less debt service'\n",
      " 'WS-EF- Interest Expense']\n"
     ]
    }
   ],
   "source": [
    "features = test.columns[1:-1].values\n",
    "print(features)\n",
    "\n",
    "Y = train['Financial Issues General Fund']\n",
    "X = train[features]\n",
    "\n",
    "x_test = test[features]\n",
    "y_test = test['Financial Issues General Fund']"
   ]
  },
  {
   "cell_type": "code",
   "execution_count": 6,
   "metadata": {},
   "outputs": [],
   "source": [
    "clf = RandomForestClassifier(n_estimators=100)\n",
    "model = clf.fit(X, Y)"
   ]
  },
  {
   "cell_type": "code",
   "execution_count": 7,
   "metadata": {},
   "outputs": [
    {
     "name": "stdout",
     "output_type": "stream",
     "text": [
      "[(0.2603, '<8% FBA/Expenditures'), (0.1354, 'FBA'), (0.1119, 'FBA w/o Powell Bill'), (0.1078, '<8% FBA w/o Powell/ Expenditures'), (0.1062, 'Total Expenditures'), (0.0828, 'WS Working Capital'), (0.0758, 'WS Cash Flow from ops less debt service'), (0.0615, 'WS Quick Ratio <1'), (0.0583, 'WS-EF- Interest Expense')]\n"
     ]
    }
   ],
   "source": [
    "print(sorted(zip(map(lambda x: round(x, 4), model.feature_importances_), features), reverse=True))"
   ]
  },
  {
   "cell_type": "code",
   "execution_count": 8,
   "metadata": {},
   "outputs": [],
   "source": [
    "est = model.predict(x_test)"
   ]
  },
  {
   "cell_type": "code",
   "execution_count": 9,
   "metadata": {},
   "outputs": [
    {
     "name": "stdout",
     "output_type": "stream",
     "text": [
      "Accuracy :  0.9365609348914858\n"
     ]
    }
   ],
   "source": [
    "print('Accuracy : ',metrics.accuracy_score(y_test, est))"
   ]
  },
  {
   "cell_type": "code",
   "execution_count": 10,
   "metadata": {},
   "outputs": [],
   "source": [
    "add_wWater = pd.DataFrame({'UnitYear':names, 'Genral Fund Prediction': est})\n",
    "out = pd.merge(out, add_wWater, how = 'left', on = 'UnitYear')"
   ]
  },
  {
   "cell_type": "markdown",
   "metadata": {},
   "source": [
    "Much like the SVM it is so accurate because it predicts the vast majority as not being on the UAL. Contrary to SVM, however, the rf classifier actually predicted some units being on the UAL. Great! \n",
    "Let's try the same model removing the water sewer data."
   ]
  },
  {
   "cell_type": "code",
   "execution_count": 11,
   "metadata": {},
   "outputs": [
    {
     "name": "stdout",
     "output_type": "stream",
     "text": [
      "['FBA' 'FBA w/o Powell Bill' 'Total Expenditures' '<8% FBA/Expenditures'\n",
      " '<8% FBA w/o Powell/ Expenditures']\n"
     ]
    }
   ],
   "source": [
    "features = test.columns[1:6].values\n",
    "print(features)\n",
    "\n",
    "X = train[features]\n",
    "x_test = test[features]"
   ]
  },
  {
   "cell_type": "code",
   "execution_count": 12,
   "metadata": {},
   "outputs": [],
   "source": [
    "clf = RandomForestClassifier(n_estimators=100)\n",
    "model = clf.fit(X, Y)"
   ]
  },
  {
   "cell_type": "code",
   "execution_count": 13,
   "metadata": {},
   "outputs": [
    {
     "name": "stdout",
     "output_type": "stream",
     "text": [
      "[(0.3151, '<8% FBA/Expenditures'), (0.1865, 'FBA'), (0.1796, 'Total Expenditures'), (0.1696, '<8% FBA w/o Powell/ Expenditures'), (0.1492, 'FBA w/o Powell Bill')]\n"
     ]
    }
   ],
   "source": [
    "print(sorted(zip(map(lambda x: round(x, 4), model.feature_importances_), features), reverse=True))"
   ]
  },
  {
   "cell_type": "code",
   "execution_count": 14,
   "metadata": {},
   "outputs": [],
   "source": [
    "est = model.predict(x_test)"
   ]
  },
  {
   "cell_type": "code",
   "execution_count": 15,
   "metadata": {},
   "outputs": [
    {
     "name": "stdout",
     "output_type": "stream",
     "text": [
      "Accuracy :  0.9315525876460768\n"
     ]
    }
   ],
   "source": [
    "print('Accuracy : ',metrics.accuracy_score(y_test, est))"
   ]
  },
  {
   "cell_type": "code",
   "execution_count": 16,
   "metadata": {},
   "outputs": [],
   "source": [
    "add_woWater = pd.DataFrame({'UnitYear':names, 'Genral Fund Prediction No Water': est})\n",
    "out = pd.merge(out, add_woWater, how = 'left', on = 'UnitYear')\n",
    "\n",
    "out.to_excel('./Data/RF_UAL_Predictions.xlsx')"
   ]
  },
  {
   "cell_type": "code",
   "execution_count": 17,
   "metadata": {},
   "outputs": [],
   "source": [
    "from sklearn.preprocessing import Normalizer\n",
    "import numpy as np"
   ]
  },
  {
   "cell_type": "code",
   "execution_count": 18,
   "metadata": {},
   "outputs": [],
   "source": [
    "scaler = Normalizer().fit(X)  \n",
    "scaled_X = scalx = scaler.transform(X)"
   ]
  },
  {
   "cell_type": "code",
   "execution_count": 19,
   "metadata": {},
   "outputs": [],
   "source": [
    "model = clf.fit(scaled_X, Y)\n",
    "scaler = Normalizer().fit(x_test) \n",
    "x_test_S = scaler.transform(x_test)\n",
    "est = model.predict(x_test_S)"
   ]
  },
  {
   "cell_type": "code",
   "execution_count": 20,
   "metadata": {},
   "outputs": [
    {
     "name": "stdout",
     "output_type": "stream",
     "text": [
      "Accuracy :  0.9198664440734557\n",
      "[(0.3417, 'FBA'), (0.2758, 'Total Expenditures'), (0.2616, 'FBA w/o Powell Bill'), (0.0652, '<8% FBA/Expenditures'), (0.0558, '<8% FBA w/o Powell/ Expenditures')]\n"
     ]
    }
   ],
   "source": [
    "print('Accuracy : ',metrics.accuracy_score(y_test, est))\n",
    "print(sorted(zip(map(lambda x: round(x, 4), model.feature_importances_), features), reverse=True))"
   ]
  },
  {
   "cell_type": "code",
   "execution_count": 21,
   "metadata": {},
   "outputs": [
    {
     "name": "stdout",
     "output_type": "stream",
     "text": [
      "10    1\n",
      "12    0\n",
      "18    0\n",
      "21    0\n",
      "24    0\n",
      "27    0\n",
      "33    0\n",
      "34    0\n",
      "35    0\n",
      "38    0\n",
      "45    0\n",
      "49    0\n",
      "52    0\n",
      "63    0\n",
      "68    0\n",
      "69    0\n",
      "71    0\n",
      "73    0\n",
      "74    0\n",
      "75    0\n",
      "Name: FBA/Exp 8%, dtype: int32\n"
     ]
    },
    {
     "name": "stderr",
     "output_type": "stream",
     "text": [
      "C:\\Users\\lgc0069\\AppData\\Local\\Continuum\\anaconda3\\lib\\site-packages\\ipykernel_launcher.py:1: SettingWithCopyWarning: \n",
      "A value is trying to be set on a copy of a slice from a DataFrame.\n",
      "Try using .loc[row_indexer,col_indexer] = value instead\n",
      "\n",
      "See the caveats in the documentation: http://pandas.pydata.org/pandas-docs/stable/indexing.html#indexing-view-versus-copy\n",
      "  \"\"\"Entry point for launching an IPython kernel.\n",
      "C:\\Users\\lgc0069\\AppData\\Local\\Continuum\\anaconda3\\lib\\site-packages\\ipykernel_launcher.py:2: SettingWithCopyWarning: \n",
      "A value is trying to be set on a copy of a slice from a DataFrame.\n",
      "Try using .loc[row_indexer,col_indexer] = value instead\n",
      "\n",
      "See the caveats in the documentation: http://pandas.pydata.org/pandas-docs/stable/indexing.html#indexing-view-versus-copy\n",
      "  \n",
      "C:\\Users\\lgc0069\\AppData\\Local\\Continuum\\anaconda3\\lib\\site-packages\\ipykernel_launcher.py:4: SettingWithCopyWarning: \n",
      "A value is trying to be set on a copy of a slice from a DataFrame.\n",
      "Try using .loc[row_indexer,col_indexer] = value instead\n",
      "\n",
      "See the caveats in the documentation: http://pandas.pydata.org/pandas-docs/stable/indexing.html#indexing-view-versus-copy\n",
      "  after removing the cwd from sys.path.\n",
      "C:\\Users\\lgc0069\\AppData\\Local\\Continuum\\anaconda3\\lib\\site-packages\\ipykernel_launcher.py:5: SettingWithCopyWarning: \n",
      "A value is trying to be set on a copy of a slice from a DataFrame.\n",
      "Try using .loc[row_indexer,col_indexer] = value instead\n",
      "\n",
      "See the caveats in the documentation: http://pandas.pydata.org/pandas-docs/stable/indexing.html#indexing-view-versus-copy\n",
      "  \"\"\"\n"
     ]
    }
   ],
   "source": [
    "X['FBA/Exp 8%'] = np.where(X['<8% FBA/Expenditures']<0.08,1,0)\n",
    "X['FBA/Exp w/o P 8%'] = np.where(X['<8% FBA w/o Powell/ Expenditures'] < 0.08,1,0)\n",
    "\n",
    "x_test['FBA/Exp 8%'] = np.where(x_test['<8% FBA/Expenditures']<0.08,1,0)\n",
    "x_test['FBA/Exp w/o P 8%'] = np.where(x_test['<8% FBA w/o Powell/ Expenditures'] < 0.08,1,0)\n",
    "\n",
    "print(x_test['FBA/Exp 8%'].head(20))"
   ]
  },
  {
   "cell_type": "code",
   "execution_count": 22,
   "metadata": {},
   "outputs": [
    {
     "data": {
      "text/plain": [
       "77"
      ]
     },
     "execution_count": 22,
     "metadata": {},
     "output_type": "execute_result"
    }
   ],
   "source": [
    "sum(train['Financial Issues General Fund'])"
   ]
  },
  {
   "cell_type": "code",
   "execution_count": 23,
   "metadata": {},
   "outputs": [
    {
     "data": {
      "text/plain": [
       "array(['FBA', 'FBA w/o Powell Bill', 'Total Expenditures',\n",
       "       '<8% FBA/Expenditures', '<8% FBA w/o Powell/ Expenditures'],\n",
       "      dtype=object)"
      ]
     },
     "execution_count": 23,
     "metadata": {},
     "output_type": "execute_result"
    }
   ],
   "source": [
    "features"
   ]
  },
  {
   "cell_type": "markdown",
   "metadata": {},
   "source": [
    "Now lets try a couple gradient boosting methods:"
   ]
  },
  {
   "cell_type": "code",
   "execution_count": 24,
   "metadata": {},
   "outputs": [],
   "source": [
    "from sklearn.ensemble import GradientBoostingClassifier\n",
    "from sklearn.ensemble import AdaBoostClassifier"
   ]
  },
  {
   "cell_type": "code",
   "execution_count": 25,
   "metadata": {},
   "outputs": [],
   "source": [
    "abc = AdaBoostClassifier(n_estimators = 500, learning_rate = 1)\n",
    "model = abc.fit(X, Y)"
   ]
  },
  {
   "cell_type": "code",
   "execution_count": 26,
   "metadata": {},
   "outputs": [],
   "source": [
    "est_ada = model.predict(x_test)"
   ]
  },
  {
   "cell_type": "code",
   "execution_count": 27,
   "metadata": {},
   "outputs": [
    {
     "name": "stdout",
     "output_type": "stream",
     "text": [
      "Accuracy :  0.9298831385642737\n",
      "[(0.264, '<8% FBA/Expenditures'), (0.196, '<8% FBA w/o Powell/ Expenditures'), (0.194, 'Total Expenditures'), (0.188, 'FBA w/o Powell Bill'), (0.158, 'FBA')]\n"
     ]
    }
   ],
   "source": [
    "print('Accuracy : ',metrics.accuracy_score(y_test, est_ada))\n",
    "print(sorted(zip(map(lambda x: round(x, 4), model.feature_importances_), features), reverse=True))"
   ]
  },
  {
   "cell_type": "code",
   "execution_count": 29,
   "metadata": {},
   "outputs": [
    {
     "data": {
      "text/plain": [
       "11"
      ]
     },
     "execution_count": 29,
     "metadata": {},
     "output_type": "execute_result"
    }
   ],
   "source": [
    "sum(est_ada)"
   ]
  },
  {
   "cell_type": "code",
   "execution_count": 33,
   "metadata": {},
   "outputs": [],
   "source": [
    "check = pd.DataFrame({'test':y_test, 'preds':est_ada})"
   ]
  },
  {
   "cell_type": "code",
   "execution_count": 32,
   "metadata": {},
   "outputs": [
    {
     "data": {
      "text/html": [
       "<div>\n",
       "<style scoped>\n",
       "    .dataframe tbody tr th:only-of-type {\n",
       "        vertical-align: middle;\n",
       "    }\n",
       "\n",
       "    .dataframe tbody tr th {\n",
       "        vertical-align: top;\n",
       "    }\n",
       "\n",
       "    .dataframe thead th {\n",
       "        text-align: right;\n",
       "    }\n",
       "</style>\n",
       "<table border=\"1\" class=\"dataframe\">\n",
       "  <thead>\n",
       "    <tr style=\"text-align: right;\">\n",
       "      <th></th>\n",
       "      <th>test</th>\n",
       "      <th>preds</th>\n",
       "    </tr>\n",
       "  </thead>\n",
       "  <tbody>\n",
       "    <tr>\n",
       "      <th>10</th>\n",
       "      <td>1</td>\n",
       "      <td>1</td>\n",
       "    </tr>\n",
       "    <tr>\n",
       "      <th>21</th>\n",
       "      <td>1</td>\n",
       "      <td>1</td>\n",
       "    </tr>\n",
       "    <tr>\n",
       "      <th>24</th>\n",
       "      <td>1</td>\n",
       "      <td>1</td>\n",
       "    </tr>\n",
       "    <tr>\n",
       "      <th>27</th>\n",
       "      <td>1</td>\n",
       "      <td>1</td>\n",
       "    </tr>\n",
       "    <tr>\n",
       "      <th>35</th>\n",
       "      <td>1</td>\n",
       "      <td>1</td>\n",
       "    </tr>\n",
       "    <tr>\n",
       "      <th>49</th>\n",
       "      <td>1</td>\n",
       "      <td>1</td>\n",
       "    </tr>\n",
       "    <tr>\n",
       "      <th>105</th>\n",
       "      <td>1</td>\n",
       "      <td>1</td>\n",
       "    </tr>\n",
       "    <tr>\n",
       "      <th>122</th>\n",
       "      <td>0</td>\n",
       "      <td>1</td>\n",
       "    </tr>\n",
       "    <tr>\n",
       "      <th>513</th>\n",
       "      <td>0</td>\n",
       "      <td>1</td>\n",
       "    </tr>\n",
       "    <tr>\n",
       "      <th>535</th>\n",
       "      <td>0</td>\n",
       "      <td>1</td>\n",
       "    </tr>\n",
       "    <tr>\n",
       "      <th>543</th>\n",
       "      <td>0</td>\n",
       "      <td>1</td>\n",
       "    </tr>\n",
       "  </tbody>\n",
       "</table>\n",
       "</div>"
      ],
      "text/plain": [
       "     test  preds\n",
       "10      1      1\n",
       "21      1      1\n",
       "24      1      1\n",
       "27      1      1\n",
       "35      1      1\n",
       "49      1      1\n",
       "105     1      1\n",
       "122     0      1\n",
       "513     0      1\n",
       "535     0      1\n",
       "543     0      1"
      ]
     },
     "execution_count": 32,
     "metadata": {},
     "output_type": "execute_result"
    }
   ],
   "source": [
    "check.loc[check['preds']==1]"
   ]
  },
  {
   "cell_type": "markdown",
   "metadata": {},
   "source": [
    "It certainly appears that gradient boosting is a much better way to go here. We do actually get some predictions of municipalities on the UAL, and more are correct than not. Step in the right direction."
   ]
  },
  {
   "cell_type": "code",
   "execution_count": null,
   "metadata": {},
   "outputs": [],
   "source": []
  }
 ],
 "metadata": {
  "kernelspec": {
   "display_name": "Python 3",
   "language": "python",
   "name": "python3"
  },
  "language_info": {
   "codemirror_mode": {
    "name": "ipython",
    "version": 3
   },
   "file_extension": ".py",
   "mimetype": "text/x-python",
   "name": "python",
   "nbconvert_exporter": "python",
   "pygments_lexer": "ipython3",
   "version": "3.7.3"
  }
 },
 "nbformat": 4,
 "nbformat_minor": 2
}
